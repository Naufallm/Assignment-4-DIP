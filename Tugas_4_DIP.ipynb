{
  "nbformat": 4,
  "nbformat_minor": 0,
  "metadata": {
    "colab": {
      "provenance": []
    },
    "kernelspec": {
      "name": "python3",
      "display_name": "Python 3"
    },
    "language_info": {
      "name": "python"
    }
  },
  "cells": [
    {
      "cell_type": "markdown",
      "source": [
        "**Ahmad Naufal Luthfan Marzuqi - 202210370311072 - DIP B**"
      ],
      "metadata": {
        "id": "sTJVDS7ofAO1"
      }
    },
    {
      "cell_type": "markdown",
      "source": [
        "**Tujuan**"
      ],
      "metadata": {
        "id": "hDUfwg63fE-V"
      }
    },
    {
      "cell_type": "markdown",
      "source": [
        "Melakukan eksplorasi awal, penyeimbangan data, dan pembagian dataset untuk meningkatkan akurasi model prediksi terhadap dataset yang tidak seimbang."
      ],
      "metadata": {
        "id": "3q-SkcZrfGde"
      }
    },
    {
      "cell_type": "markdown",
      "source": [
        "**Eksplorasi awal dan pra-pemrosesan**"
      ],
      "metadata": {
        "id": "shGUTcrQfHpO"
      }
    },
    {
      "cell_type": "markdown",
      "source": [
        "\n",
        "\n",
        "*   Distribusi awal kelas target, Analisis menunjukkan ketidakseimbangan pada kelas target smoke.\n",
        "\n",
        "*   Pra-pemrosesan, Missing values dalam dataset telah ditangani, termasuk imputasi nilai rata-rata untuk kolom numerik. Fitur numerik seperti bwt, gestation, age, height, dan weight telah dinormalisasi menggunakan Min-Max Scaling.\n",
        "\n"
      ],
      "metadata": {
        "id": "51eJGFL1fI_U"
      }
    },
    {
      "cell_type": "code",
      "execution_count": 3,
      "metadata": {
        "colab": {
          "base_uri": "https://localhost:8080/",
          "height": 559
        },
        "id": "Lk9nwrTscqeA",
        "outputId": "076e7837-e251-48a7-d190-a2755f964238"
      },
      "outputs": [
        {
          "output_type": "stream",
          "name": "stdout",
          "text": [
            "Distribusi Kelas Target Sebelum Balancing:\n",
            "smoke\n",
            "0.0    742\n",
            "1.0    484\n",
            "Name: count, dtype: int64\n"
          ]
        },
        {
          "output_type": "display_data",
          "data": {
            "text/plain": [
              "<Figure size 640x480 with 1 Axes>"
            ],
            "image/png": "[encoded data removed]"
          },
          "metadata": {}
        }
      ],
      "source": [
        "import pandas as pd\n",
        "import matplotlib.pyplot as plt\n",
        "\n",
        "# Memuat dataset\n",
        "df = pd.read_csv(\"babies.csv\")\n",
        "\n",
        "# Analisis distribusi kelas\n",
        "class_distribution = df['smoke'].value_counts()\n",
        "print(\"Distribusi Kelas Target Sebelum Balancing:\")\n",
        "print(class_distribution)\n",
        "\n",
        "# Visualisasi distribusi kelas\n",
        "plt.bar(class_distribution.index, class_distribution.values)\n",
        "plt.xlabel(\"Kelas Target (smoke)\")\n",
        "plt.ylabel(\"Jumlah\")\n",
        "plt.title(\"Distribusi Kelas Target Sebelum Balancing\")\n",
        "plt.show()"
      ]
    },
    {
      "cell_type": "code",
      "source": [
        "from sklearn.preprocessing import MinMaxScaler\n",
        "\n",
        "# Pra-pemrosesan fitur numerik\n",
        "numerical_features = ['bwt', 'gestation', 'age', 'height', 'weight']\n",
        "scaler = MinMaxScaler()\n",
        "\n",
        "# Mengatasi missing values sebelum normalisasi\n",
        "df[numerical_features] = df[numerical_features].fillna(df[numerical_features].mean())\n",
        "\n",
        "# Normalisasi menggunakan Min-Max Scaler\n",
        "df[numerical_features] = scaler.fit_transform(df[numerical_features])\n",
        "print(df[numerical_features].head())"
      ],
      "metadata": {
        "colab": {
          "base_uri": "https://localhost:8080/"
        },
        "id": "wmnroJquc_HH",
        "outputId": "0cd02411-b08b-4727-c45c-4c7c98b02c47"
      },
      "execution_count": 4,
      "outputs": [
        {
          "output_type": "stream",
          "name": "stdout",
          "text": [
            "        bwt  gestation       age    height    weight\n",
            "0  0.537190   0.663415  0.400000  0.473684  0.079755\n",
            "1  0.479339   0.653659  0.600000  0.578947  0.294479\n",
            "2  0.603306   0.639024  0.433333  0.578947  0.171779\n",
            "3  0.561983   0.640676  0.700000  0.842105  0.631902\n",
            "4  0.438017   0.653659  0.266667  0.736842  0.233129\n"
          ]
        }
      ]
    },
    {
      "cell_type": "code",
      "source": [
        "# Menangani nilai NaN pada kolom target (smoke)\n",
        "df = df[df['smoke'].notna()]  # Menghapus baris dengan NaN pada kolom target\n",
        "\n",
        "# Menangani nilai NaN pada fitur\n",
        "df.fillna(df.mean(), inplace=True)  # Mengisi nilai NaN dengan rata-rata kolom"
      ],
      "metadata": {
        "colab": {
          "base_uri": "https://localhost:8080/"
        },
        "id": "S-8IUia_dghW",
        "outputId": "6669d4be-86f4-4976-99a2-b76747cfa016"
      },
      "execution_count": 6,
      "outputs": [
        {
          "output_type": "stream",
          "name": "stderr",
          "text": [
            "<ipython-input-6-acc4a6e1fe45>:5: SettingWithCopyWarning: \n",
            "A value is trying to be set on a copy of a slice from a DataFrame\n",
            "\n",
            "See the caveats in the documentation: https://pandas.pydata.org/pandas-docs/stable/user_guide/indexing.html#returning-a-view-versus-a-copy\n",
            "  df.fillna(df.mean(), inplace=True)  # Mengisi nilai NaN dengan rata-rata kolom\n"
          ]
        }
      ]
    },
    {
      "cell_type": "markdown",
      "source": [
        "**Data Balancing**"
      ],
      "metadata": {
        "id": "9Dc1IZWDfbNV"
      }
    },
    {
      "cell_type": "markdown",
      "source": [
        "Data seimbang menggunakan SMOTE (Synthetic Minority Oversampling Technique). Distribusi kelas target setelah balancing menunjukkan jumlah yang sama pada kedua kelas."
      ],
      "metadata": {
        "id": "WG7ZVqBgfdhC"
      }
    },
    {
      "cell_type": "code",
      "source": [
        "from imblearn.over_sampling import SMOTE\n",
        "from collections import Counter\n",
        "\n",
        "# Memisahkan fitur dan target\n",
        "X = df.drop(columns=['smoke', 'case'])  # Menghapus kolom 'case' jika tidak diperlukan\n",
        "y = df['smoke']\n",
        "\n",
        "# Oversampling dengan SMOTE\n",
        "smote = SMOTE(random_state=42)\n",
        "X_res, y_res = smote.fit_resample(X, y)\n",
        "\n",
        "# Distribusi sebelum dan sesudah balancing\n",
        "print(\"Distribusi Sebelum Balancing:\", Counter(y))\n",
        "print(\"Distribusi Setelah Balancing:\", Counter(y_res))\n",
        "\n",
        "# Visualisasi distribusi setelah balancing\n",
        "plt.bar(Counter(y_res).keys(), Counter(y_res).values())\n",
        "plt.xlabel(\"Kelas Target (smoke)\")\n",
        "plt.ylabel(\"Jumlah\")\n",
        "plt.title(\"Distribusi Kelas Target Setelah Balancing\")\n",
        "plt.show()"
      ],
      "metadata": {
        "colab": {
          "base_uri": "https://localhost:8080/",
          "height": 507
        },
        "id": "wJj1Wtx8dUef",
        "outputId": "e27609b2-7923-496c-fa3f-d368a139c27d"
      },
      "execution_count": 7,
      "outputs": [
        {
          "output_type": "stream",
          "name": "stdout",
          "text": [
            "Distribusi Sebelum Balancing: Counter({0.0: 742, 1.0: 484})\n",
            "Distribusi Setelah Balancing: Counter({0.0: 742, 1.0: 742})\n"
          ]
        },
        {
          "output_type": "display_data",
          "data": {
            "text/plain": [
              "<Figure size 640x480 with 1 Axes>"
            ],
            "image/png": "[encoded data removed]"
          },
          "metadata": {}
        }
      ]
    },
    {
      "cell_type": "markdown",
      "source": [
        "**Data Splitting**"
      ],
      "metadata": {
        "id": "kCHohXToff1u"
      }
    },
    {
      "cell_type": "markdown",
      "source": [
        "Dataset dibagi menjadi data training (80%) dan testing (20%). Proporsi kelas dijaga tetap seimbang menggunakan parameter stratify."
      ],
      "metadata": {
        "id": "P2Bvh7EQfhVk"
      }
    },
    {
      "cell_type": "code",
      "source": [
        "from sklearn.model_selection import train_test_split\n",
        "\n",
        "# Membagi dataset dengan stratifikasi\n",
        "X_train, X_test, y_train, y_test = train_test_split(\n",
        "    X_res, y_res, test_size=0.2, random_state=42, stratify=y_res\n",
        ")\n",
        "\n",
        "print(f\"Jumlah Data Training: {len(X_train)}\")\n",
        "print(f\"Jumlah Data Testing: {len(X_test)}\")"
      ],
      "metadata": {
        "colab": {
          "base_uri": "https://localhost:8080/"
        },
        "id": "cnN6Tw_7dlow",
        "outputId": "239d60c7-de6b-45df-f20b-6b16c19c18c2"
      },
      "execution_count": 8,
      "outputs": [
        {
          "output_type": "stream",
          "name": "stdout",
          "text": [
            "Jumlah Data Training: 1187\n",
            "Jumlah Data Testing: 297\n"
          ]
        }
      ]
    },
    {
      "cell_type": "markdown",
      "source": [
        "**Kesimpulan**"
      ],
      "metadata": {
        "id": "wUI8JRBAfi_w"
      }
    },
    {
      "cell_type": "markdown",
      "source": [
        "Dataset awal yang tidak seimbang berhasil diperbaiki melalui balancing data. Proses eksplorasi dan pembagian data selesai dengan mempertahankan kualitas data, memberikan fondasi yang baik untuk membangun model prediksi yang akurat."
      ],
      "metadata": {
        "id": "MIgQOqgUfkcU"
      }
    }
  ]
}